{
 "cells": [
  {
   "cell_type": "markdown",
   "metadata": {},
   "source": [
    "### Note\n",
    "* Instructions have been included for each segment. You do not have to follow them exactly, but they are included to help you think through the steps."
   ]
  },
  {
   "cell_type": "code",
   "execution_count": 17,
   "metadata": {},
   "outputs": [],
   "source": [
    "# Dependencies and Setup\n",
    "import pandas as pd\n",
    "import numpy as np\n",
    "\n",
    "# File to Load (Remember to Change These)\n",
    "file_to_load = \"Resources/purchase_data.csv\"\n",
    "\n",
    "# Read Purchasing File and store into Pandas data frame\n",
    "purchase_data = pd.read_csv(file_to_load)"
   ]
  },
  {
   "cell_type": "markdown",
   "metadata": {},
   "source": [
    "## Player Count"
   ]
  },
  {
   "cell_type": "markdown",
   "metadata": {},
   "source": [
    "* Display the total number of players\n"
   ]
  },
  {
   "cell_type": "code",
   "execution_count": 19,
   "metadata": {},
   "outputs": [
    {
     "data": {
      "text/html": [
       "<div>\n",
       "<style scoped>\n",
       "    .dataframe tbody tr th:only-of-type {\n",
       "        vertical-align: middle;\n",
       "    }\n",
       "\n",
       "    .dataframe tbody tr th {\n",
       "        vertical-align: top;\n",
       "    }\n",
       "\n",
       "    .dataframe thead th {\n",
       "        text-align: right;\n",
       "    }\n",
       "</style>\n",
       "<table border=\"1\" class=\"dataframe\">\n",
       "  <thead>\n",
       "    <tr style=\"text-align: right;\">\n",
       "      <th></th>\n",
       "      <th>Total_Players</th>\n",
       "    </tr>\n",
       "  </thead>\n",
       "  <tbody>\n",
       "    <tr>\n",
       "      <th>0</th>\n",
       "      <td>576</td>\n",
       "    </tr>\n",
       "  </tbody>\n",
       "</table>\n",
       "</div>"
      ],
      "text/plain": [
       "   Total_Players\n",
       "0            576"
      ]
     },
     "execution_count": 19,
     "metadata": {},
     "output_type": "execute_result"
    }
   ],
   "source": [
    "df=pd.DataFrame(purchase_data)\n",
    "Unique_Players = df['SN'].nunique()\n",
    "data_pls = {'Total_Players':[Unique_Players]}\n",
    "Total_Players_df=pd.DataFrame(data_pls)\n",
    "Total_Players_df"
   ]
  },
  {
   "cell_type": "markdown",
   "metadata": {},
   "source": [
    "## Purchasing Analysis (Total)"
   ]
  },
  {
   "cell_type": "markdown",
   "metadata": {},
   "source": [
    "* Run basic calculations to obtain number of unique items, average price, etc.\n",
    "\n",
    "\n",
    "* Create a summary data frame to hold the results\n",
    "\n",
    "\n",
    "* Optional: give the displayed data cleaner formatting\n",
    "\n",
    "\n",
    "* Display the summary data frame\n"
   ]
  },
  {
   "cell_type": "code",
   "execution_count": 20,
   "metadata": {
    "scrolled": true
   },
   "outputs": [
    {
     "data": {
      "text/html": [
       "<div>\n",
       "<style scoped>\n",
       "    .dataframe tbody tr th:only-of-type {\n",
       "        vertical-align: middle;\n",
       "    }\n",
       "\n",
       "    .dataframe tbody tr th {\n",
       "        vertical-align: top;\n",
       "    }\n",
       "\n",
       "    .dataframe thead th {\n",
       "        text-align: right;\n",
       "    }\n",
       "</style>\n",
       "<table border=\"1\" class=\"dataframe\">\n",
       "  <thead>\n",
       "    <tr style=\"text-align: right;\">\n",
       "      <th></th>\n",
       "      <th>Number of Unique Items</th>\n",
       "      <th>Average Price</th>\n",
       "      <th>Number of Purchases</th>\n",
       "      <th>Total Revenue</th>\n",
       "    </tr>\n",
       "  </thead>\n",
       "  <tbody>\n",
       "    <tr>\n",
       "      <th>0</th>\n",
       "      <td>179</td>\n",
       "      <td>$3.05</td>\n",
       "      <td>780</td>\n",
       "      <td>$2379.77</td>\n",
       "    </tr>\n",
       "  </tbody>\n",
       "</table>\n",
       "</div>"
      ],
      "text/plain": [
       "   Number of Unique Items Average Price  Number of Purchases Total Revenue\n",
       "0                     179         $3.05                  780      $2379.77"
      ]
     },
     "execution_count": 20,
     "metadata": {},
     "output_type": "execute_result"
    }
   ],
   "source": [
    "Unique_Items=df['Item ID'].nunique()\n",
    "Average_format=df['Price'].mean()\n",
    "Avg_Price = str(\"$\"+\"{:.2f}\".format(Average_format))\n",
    "Total_purchases=df['Purchase ID'].nunique()\n",
    "Total_Rev = df['Price'].sum()\n",
    "Total_Revenue = str(\"$\"+\"{:.2f}\".format(Total_Rev))\n",
    "\n",
    "Output = {\n",
    "  \"Number of Unique Items\": [Unique_Items],\n",
    "  \"Average Price\": [Avg_Price],\n",
    "    \"Number of Purchases\": [Total_purchases],\n",
    "    \"Total Revenue\": [Total_Revenue]\n",
    "}\n",
    "Output_df=pd.DataFrame(Output)\n",
    "Output_df"
   ]
  },
  {
   "cell_type": "markdown",
   "metadata": {},
   "source": [
    "## Gender Demographics"
   ]
  },
  {
   "cell_type": "markdown",
   "metadata": {},
   "source": [
    "* Percentage and Count of Male Players\n",
    "\n",
    "\n",
    "* Percentage and Count of Female Players\n",
    "\n",
    "\n",
    "* Percentage and Count of Other / Non-Disclosed\n",
    "\n",
    "\n"
   ]
  },
  {
   "cell_type": "code",
   "execution_count": 21,
   "metadata": {},
   "outputs": [
    {
     "data": {
      "text/html": [
       "<div>\n",
       "<style scoped>\n",
       "    .dataframe tbody tr th:only-of-type {\n",
       "        vertical-align: middle;\n",
       "    }\n",
       "\n",
       "    .dataframe tbody tr th {\n",
       "        vertical-align: top;\n",
       "    }\n",
       "\n",
       "    .dataframe thead th {\n",
       "        text-align: right;\n",
       "    }\n",
       "</style>\n",
       "<table border=\"1\" class=\"dataframe\">\n",
       "  <thead>\n",
       "    <tr style=\"text-align: right;\">\n",
       "      <th></th>\n",
       "      <th>Total_Count</th>\n",
       "      <th>Percentage of Players</th>\n",
       "    </tr>\n",
       "  </thead>\n",
       "  <tbody>\n",
       "    <tr>\n",
       "      <th>Male</th>\n",
       "      <td>484</td>\n",
       "      <td>84.03%</td>\n",
       "    </tr>\n",
       "    <tr>\n",
       "      <th>Female</th>\n",
       "      <td>81</td>\n",
       "      <td>14.06%</td>\n",
       "    </tr>\n",
       "    <tr>\n",
       "      <th>Other / Non-Disclosed</th>\n",
       "      <td>11</td>\n",
       "      <td>1.91%</td>\n",
       "    </tr>\n",
       "  </tbody>\n",
       "</table>\n",
       "</div>"
      ],
      "text/plain": [
       "                       Total_Count Percentage of Players\n",
       "Male                           484                84.03%\n",
       "Female                          81                14.06%\n",
       "Other / Non-Disclosed           11                 1.91%"
      ]
     },
     "execution_count": 21,
     "metadata": {},
     "output_type": "execute_result"
    }
   ],
   "source": [
    "Gender_file = pd.read_csv(file_to_load, usecols = ['SN','Gender'])\n",
    "List_Players_df = pd.DataFrame(Gender_file)\n",
    "Total_Unique_Players = List_Players_df.drop_duplicates()\n",
    "Players_df=pd.DataFrame(Total_Unique_Players)\n",
    "s=Players_df.Gender\n",
    "counts=s.value_counts()\n",
    "percent=s.value_counts(normalize=True)\n",
    "percent100=s.value_counts(normalize=True).mul(100).round(2).astype(str) +'%'\n",
    "Output_G_Frame=pd.DataFrame({'Total_Count':counts,'Percentage of Players':percent100})\n",
    "Output_G_Frame\n"
   ]
  },
  {
   "cell_type": "markdown",
   "metadata": {},
   "source": [
    "\n",
    "## Purchasing Analysis (Gender)"
   ]
  },
  {
   "cell_type": "markdown",
   "metadata": {},
   "source": [
    "* Run basic calculations to obtain purchase count, avg. purchase price, avg. purchase total per person etc. by gender\n",
    "\n",
    "\n",
    "\n",
    "\n",
    "* Create a summary data frame to hold the results\n",
    "\n",
    "\n",
    "* Optional: give the displayed data cleaner formatting\n",
    "\n",
    "\n",
    "* Display the summary data frame"
   ]
  },
  {
   "cell_type": "code",
   "execution_count": 22,
   "metadata": {},
   "outputs": [
    {
     "data": {
      "text/html": [
       "<style  type=\"text/css\" >\n",
       "</style><table id=\"T_f7b85_\" ><thead>    <tr>        <th class=\"blank level0\" ></th>        <th class=\"col_heading level0 col0\" >Purchase Count</th>        <th class=\"col_heading level0 col1\" >Average Purchase Price</th>        <th class=\"col_heading level0 col2\" >Total Purchase Value</th>        <th class=\"col_heading level0 col3\" >Avg Total Purchase per Person</th>    </tr>    <tr>        <th class=\"index_name level0\" >Gender</th>        <th class=\"blank\" ></th>        <th class=\"blank\" ></th>        <th class=\"blank\" ></th>        <th class=\"blank\" ></th>    </tr></thead><tbody>\n",
       "                <tr>\n",
       "                        <th id=\"T_f7b85_level0_row0\" class=\"row_heading level0 row0\" >Female</th>\n",
       "                        <td id=\"T_f7b85_row0_col0\" class=\"data row0 col0\" >113</td>\n",
       "                        <td id=\"T_f7b85_row0_col1\" class=\"data row0 col1\" >$3.20</td>\n",
       "                        <td id=\"T_f7b85_row0_col2\" class=\"data row0 col2\" >$361.94</td>\n",
       "                        <td id=\"T_f7b85_row0_col3\" class=\"data row0 col3\" >$4.47</td>\n",
       "            </tr>\n",
       "            <tr>\n",
       "                        <th id=\"T_f7b85_level0_row1\" class=\"row_heading level0 row1\" >Male</th>\n",
       "                        <td id=\"T_f7b85_row1_col0\" class=\"data row1 col0\" >652</td>\n",
       "                        <td id=\"T_f7b85_row1_col1\" class=\"data row1 col1\" >$3.02</td>\n",
       "                        <td id=\"T_f7b85_row1_col2\" class=\"data row1 col2\" >$1,967.64</td>\n",
       "                        <td id=\"T_f7b85_row1_col3\" class=\"data row1 col3\" >$4.07</td>\n",
       "            </tr>\n",
       "            <tr>\n",
       "                        <th id=\"T_f7b85_level0_row2\" class=\"row_heading level0 row2\" >Other / Non-Disclosed</th>\n",
       "                        <td id=\"T_f7b85_row2_col0\" class=\"data row2 col0\" >15</td>\n",
       "                        <td id=\"T_f7b85_row2_col1\" class=\"data row2 col1\" >$3.35</td>\n",
       "                        <td id=\"T_f7b85_row2_col2\" class=\"data row2 col2\" >$50.19</td>\n",
       "                        <td id=\"T_f7b85_row2_col3\" class=\"data row2 col3\" >$4.56</td>\n",
       "            </tr>\n",
       "    </tbody></table>"
      ],
      "text/plain": [
       "<pandas.io.formats.style.Styler at 0x209b85000d0>"
      ]
     },
     "execution_count": 22,
     "metadata": {},
     "output_type": "execute_result"
    }
   ],
   "source": [
    "Gender_Analysis = purchase_data.groupby(\"Gender\")\n",
    "Number_of_Purchases=Gender_Analysis[\"Purchase ID\"].count()\n",
    "Avg_PPrice= Gender_Analysis[\"Price\"].mean()\n",
    "Total_Purchase_By_Gender=Gender_Analysis[\"Price\"].sum()\n",
    "\n",
    "Avg_Total_Purchase_Person=Total_Purchase_By_Gender/counts\n",
    "Output_Gender_Analysis_df = pd.DataFrame({\"Purchase Count\": Number_of_Purchases, \n",
    "                                    \"Average Purchase Price\": Avg_PPrice,\n",
    "                                    \"Total Purchase Value\":Total_Purchase_By_Gender,\n",
    "                                    \"Avg Total Purchase per Person\": Avg_Total_Purchase_Person})\n",
    "\n",
    "Final_Summary_Output= Output_Gender_Analysis_df.style.format({\"Average Purchase Price\":\"${:,.2f}\",\n",
    "                                  \"Total Purchase Value\":\"${:,.2f}\",\n",
    "                                  \"Avg Total Purchase per Person\":\"${:,.2f}\"})\n",
    "Output_Gender_Analysis_df.index.name =\"Gender\"\n",
    "Final_Summary_Output"
   ]
  },
  {
   "cell_type": "markdown",
   "metadata": {},
   "source": [
    "## Age Demographics"
   ]
  },
  {
   "cell_type": "markdown",
   "metadata": {},
   "source": [
    "* Establish bins for ages\n",
    "\n",
    "\n",
    "* Categorize the existing players using the age bins. Hint: use pd.cut()\n",
    "\n",
    "\n",
    "* Calculate the numbers and percentages by age group\n",
    "\n",
    "\n",
    "* Create a summary data frame to hold the results\n",
    "\n",
    "\n",
    "* Optional: round the percentage column to two decimal points\n",
    "\n",
    "\n",
    "* Display Age Demographics Table\n"
   ]
  },
  {
   "cell_type": "code",
   "execution_count": 23,
   "metadata": {},
   "outputs": [
    {
     "data": {
      "text/html": [
       "<style  type=\"text/css\" >\n",
       "</style><table id=\"T_e7739_\" ><thead>    <tr>        <th class=\"blank level0\" ></th>        <th class=\"col_heading level0 col0\" >Total_Count</th>        <th class=\"col_heading level0 col1\" >Percentage of Players</th>    </tr>    <tr>        <th class=\"index_name level0\" ></th>        <th class=\"blank\" ></th>        <th class=\"blank\" ></th>    </tr></thead><tbody>\n",
       "                <tr>\n",
       "                        <th id=\"T_e7739_level0_row0\" class=\"row_heading level0 row0\" ><10</th>\n",
       "                        <td id=\"T_e7739_row0_col0\" class=\"data row0 col0\" >17</td>\n",
       "                        <td id=\"T_e7739_row0_col1\" class=\"data row0 col1\" >2.95%</td>\n",
       "            </tr>\n",
       "            <tr>\n",
       "                        <th id=\"T_e7739_level0_row1\" class=\"row_heading level0 row1\" >10-14</th>\n",
       "                        <td id=\"T_e7739_row1_col0\" class=\"data row1 col0\" >22</td>\n",
       "                        <td id=\"T_e7739_row1_col1\" class=\"data row1 col1\" >3.82%</td>\n",
       "            </tr>\n",
       "            <tr>\n",
       "                        <th id=\"T_e7739_level0_row2\" class=\"row_heading level0 row2\" >15-19</th>\n",
       "                        <td id=\"T_e7739_row2_col0\" class=\"data row2 col0\" >107</td>\n",
       "                        <td id=\"T_e7739_row2_col1\" class=\"data row2 col1\" >18.58%</td>\n",
       "            </tr>\n",
       "            <tr>\n",
       "                        <th id=\"T_e7739_level0_row3\" class=\"row_heading level0 row3\" >20-24</th>\n",
       "                        <td id=\"T_e7739_row3_col0\" class=\"data row3 col0\" >258</td>\n",
       "                        <td id=\"T_e7739_row3_col1\" class=\"data row3 col1\" >44.79%</td>\n",
       "            </tr>\n",
       "            <tr>\n",
       "                        <th id=\"T_e7739_level0_row4\" class=\"row_heading level0 row4\" >25-29</th>\n",
       "                        <td id=\"T_e7739_row4_col0\" class=\"data row4 col0\" >77</td>\n",
       "                        <td id=\"T_e7739_row4_col1\" class=\"data row4 col1\" >13.37%</td>\n",
       "            </tr>\n",
       "            <tr>\n",
       "                        <th id=\"T_e7739_level0_row5\" class=\"row_heading level0 row5\" >30-34</th>\n",
       "                        <td id=\"T_e7739_row5_col0\" class=\"data row5 col0\" >52</td>\n",
       "                        <td id=\"T_e7739_row5_col1\" class=\"data row5 col1\" >9.03%</td>\n",
       "            </tr>\n",
       "            <tr>\n",
       "                        <th id=\"T_e7739_level0_row6\" class=\"row_heading level0 row6\" >35-39</th>\n",
       "                        <td id=\"T_e7739_row6_col0\" class=\"data row6 col0\" >31</td>\n",
       "                        <td id=\"T_e7739_row6_col1\" class=\"data row6 col1\" >5.38%</td>\n",
       "            </tr>\n",
       "            <tr>\n",
       "                        <th id=\"T_e7739_level0_row7\" class=\"row_heading level0 row7\" >40+</th>\n",
       "                        <td id=\"T_e7739_row7_col0\" class=\"data row7 col0\" >12</td>\n",
       "                        <td id=\"T_e7739_row7_col1\" class=\"data row7 col1\" >2.08%</td>\n",
       "            </tr>\n",
       "    </tbody></table>"
      ],
      "text/plain": [
       "<pandas.io.formats.style.Styler at 0x209b84ea400>"
      ]
     },
     "execution_count": 23,
     "metadata": {},
     "output_type": "execute_result"
    }
   ],
   "source": [
    "# Bins are   \n",
    "bins = [0,9.99,14.99,19.99,24.99,29.99,34.99,39.99,49.99]\n",
    "\n",
    "# Create the names for the bins\n",
    "group_names = [\"<10\", \"10-14\", \"15-19\", \"20-24\", \"25-29\", \"30-34\", \"35-39\", \"40+\"]\n",
    "purchase_data[\"Age Summary\"] = pd.cut(purchase_data[\"Age\"], bins, labels=group_names, include_lowest=True)\n",
    "By_Age = purchase_data.groupby(\"Age Summary\")\n",
    "\n",
    "Count_Age= By_Age[\"SN\"].nunique()\n",
    "Percentage_Age=(Count_Age/Unique_Players)*100\n",
    "\n",
    "Age_df=pd.DataFrame(({'Total_Count':Count_Age,'Percentage of Players':Percentage_Age}))\n",
    "Output_Age= Age_df.style.format({\"Percentage of Players\":\"{:,.2f}%\"})\n",
    "                                \n",
    "Output_Age.index.name =\"\"\n",
    "\n",
    "Output_Age\n",
    "\n"
   ]
  },
  {
   "cell_type": "markdown",
   "metadata": {},
   "source": [
    "## Purchasing Analysis (Age)"
   ]
  },
  {
   "cell_type": "markdown",
   "metadata": {},
   "source": [
    "* Bin the purchase_data data frame by age\n",
    "\n",
    "\n",
    "* Run basic calculations to obtain purchase count, avg. purchase price, avg. purchase total per person etc. in the table below\n",
    "\n",
    "\n",
    "* Create a summary data frame to hold the results\n",
    "\n",
    "\n",
    "* Optional: give the displayed data cleaner formatting\n",
    "\n",
    "\n",
    "* Display the summary data frame"
   ]
  },
  {
   "cell_type": "code",
   "execution_count": 24,
   "metadata": {},
   "outputs": [
    {
     "data": {
      "text/html": [
       "<style  type=\"text/css\" >\n",
       "</style><table id=\"T_6c3bd_\" ><thead>    <tr>        <th class=\"blank level0\" ></th>        <th class=\"col_heading level0 col0\" >Purchase Count</th>        <th class=\"col_heading level0 col1\" >Average Purchase Price</th>        <th class=\"col_heading level0 col2\" >Total Purchase Value</th>        <th class=\"col_heading level0 col3\" >Avg Total Purchase per Person</th>    </tr>    <tr>        <th class=\"index_name level0\" >Age Ranges</th>        <th class=\"blank\" ></th>        <th class=\"blank\" ></th>        <th class=\"blank\" ></th>        <th class=\"blank\" ></th>    </tr></thead><tbody>\n",
       "                <tr>\n",
       "                        <th id=\"T_6c3bd_level0_row0\" class=\"row_heading level0 row0\" ><10</th>\n",
       "                        <td id=\"T_6c3bd_row0_col0\" class=\"data row0 col0\" >23</td>\n",
       "                        <td id=\"T_6c3bd_row0_col1\" class=\"data row0 col1\" >$3.35</td>\n",
       "                        <td id=\"T_6c3bd_row0_col2\" class=\"data row0 col2\" >$77.13</td>\n",
       "                        <td id=\"T_6c3bd_row0_col3\" class=\"data row0 col3\" >$4.54</td>\n",
       "            </tr>\n",
       "            <tr>\n",
       "                        <th id=\"T_6c3bd_level0_row1\" class=\"row_heading level0 row1\" >10-14</th>\n",
       "                        <td id=\"T_6c3bd_row1_col0\" class=\"data row1 col0\" >28</td>\n",
       "                        <td id=\"T_6c3bd_row1_col1\" class=\"data row1 col1\" >$2.96</td>\n",
       "                        <td id=\"T_6c3bd_row1_col2\" class=\"data row1 col2\" >$82.78</td>\n",
       "                        <td id=\"T_6c3bd_row1_col3\" class=\"data row1 col3\" >$3.76</td>\n",
       "            </tr>\n",
       "            <tr>\n",
       "                        <th id=\"T_6c3bd_level0_row2\" class=\"row_heading level0 row2\" >15-19</th>\n",
       "                        <td id=\"T_6c3bd_row2_col0\" class=\"data row2 col0\" >136</td>\n",
       "                        <td id=\"T_6c3bd_row2_col1\" class=\"data row2 col1\" >$3.04</td>\n",
       "                        <td id=\"T_6c3bd_row2_col2\" class=\"data row2 col2\" >$412.89</td>\n",
       "                        <td id=\"T_6c3bd_row2_col3\" class=\"data row2 col3\" >$3.86</td>\n",
       "            </tr>\n",
       "            <tr>\n",
       "                        <th id=\"T_6c3bd_level0_row3\" class=\"row_heading level0 row3\" >20-24</th>\n",
       "                        <td id=\"T_6c3bd_row3_col0\" class=\"data row3 col0\" >365</td>\n",
       "                        <td id=\"T_6c3bd_row3_col1\" class=\"data row3 col1\" >$3.05</td>\n",
       "                        <td id=\"T_6c3bd_row3_col2\" class=\"data row3 col2\" >$1,114.06</td>\n",
       "                        <td id=\"T_6c3bd_row3_col3\" class=\"data row3 col3\" >$4.32</td>\n",
       "            </tr>\n",
       "            <tr>\n",
       "                        <th id=\"T_6c3bd_level0_row4\" class=\"row_heading level0 row4\" >25-29</th>\n",
       "                        <td id=\"T_6c3bd_row4_col0\" class=\"data row4 col0\" >101</td>\n",
       "                        <td id=\"T_6c3bd_row4_col1\" class=\"data row4 col1\" >$2.90</td>\n",
       "                        <td id=\"T_6c3bd_row4_col2\" class=\"data row4 col2\" >$293.00</td>\n",
       "                        <td id=\"T_6c3bd_row4_col3\" class=\"data row4 col3\" >$3.81</td>\n",
       "            </tr>\n",
       "            <tr>\n",
       "                        <th id=\"T_6c3bd_level0_row5\" class=\"row_heading level0 row5\" >30-34</th>\n",
       "                        <td id=\"T_6c3bd_row5_col0\" class=\"data row5 col0\" >73</td>\n",
       "                        <td id=\"T_6c3bd_row5_col1\" class=\"data row5 col1\" >$2.93</td>\n",
       "                        <td id=\"T_6c3bd_row5_col2\" class=\"data row5 col2\" >$214.00</td>\n",
       "                        <td id=\"T_6c3bd_row5_col3\" class=\"data row5 col3\" >$4.12</td>\n",
       "            </tr>\n",
       "            <tr>\n",
       "                        <th id=\"T_6c3bd_level0_row6\" class=\"row_heading level0 row6\" >35-39</th>\n",
       "                        <td id=\"T_6c3bd_row6_col0\" class=\"data row6 col0\" >41</td>\n",
       "                        <td id=\"T_6c3bd_row6_col1\" class=\"data row6 col1\" >$3.60</td>\n",
       "                        <td id=\"T_6c3bd_row6_col2\" class=\"data row6 col2\" >$147.67</td>\n",
       "                        <td id=\"T_6c3bd_row6_col3\" class=\"data row6 col3\" >$4.76</td>\n",
       "            </tr>\n",
       "            <tr>\n",
       "                        <th id=\"T_6c3bd_level0_row7\" class=\"row_heading level0 row7\" >40+</th>\n",
       "                        <td id=\"T_6c3bd_row7_col0\" class=\"data row7 col0\" >13</td>\n",
       "                        <td id=\"T_6c3bd_row7_col1\" class=\"data row7 col1\" >$2.94</td>\n",
       "                        <td id=\"T_6c3bd_row7_col2\" class=\"data row7 col2\" >$38.24</td>\n",
       "                        <td id=\"T_6c3bd_row7_col3\" class=\"data row7 col3\" >$3.19</td>\n",
       "            </tr>\n",
       "    </tbody></table>"
      ],
      "text/plain": [
       "<pandas.io.formats.style.Styler at 0x209b7395d90>"
      ]
     },
     "execution_count": 24,
     "metadata": {},
     "output_type": "execute_result"
    }
   ],
   "source": [
    "# Bins are   \n",
    "Purchase_count=By_Age[\"Purchase ID\"].count()\n",
    "\n",
    "Avg_PPrice_By_Age= By_Age[\"Price\"].mean()\n",
    "Total_Purchase_By_Age=By_Age[\"Price\"].sum()\n",
    "Avg_Total_Purchase_Person_By_Age=Total_Purchase_By_Age/Count_Age\n",
    "\n",
    "Output_Age_Analysis_df = pd.DataFrame({\"Purchase Count\": Purchase_count, \n",
    "                                    \"Average Purchase Price\": Avg_PPrice_By_Age,\n",
    "                                    \"Total Purchase Value\":Total_Purchase_By_Age,\n",
    "                                    \"Avg Total Purchase per Person\": Avg_Total_Purchase_Person_By_Age})\n",
    "\n",
    "Final_Summary_Output_Age= Output_Age_Analysis_df.style.format({\"Average Purchase Price\":\"${:,.2f}\",\n",
    "                                  \"Total Purchase Value\":\"${:,.2f}\",\n",
    "                                  \"Avg Total Purchase per Person\":\"${:,.2f}\"})\n",
    "Output_Age_Analysis_df.index.name =\"Age Ranges\"\n",
    "Final_Summary_Output_Age\n"
   ]
  },
  {
   "cell_type": "markdown",
   "metadata": {},
   "source": [
    "## Top Spenders"
   ]
  },
  {
   "cell_type": "markdown",
   "metadata": {},
   "source": [
    "* Run basic calculations to obtain the results in the table below\n",
    "\n",
    "\n",
    "* Create a summary data frame to hold the results\n",
    "\n",
    "\n",
    "* Sort the total purchase value column in descending order\n",
    "\n",
    "\n",
    "* Optional: give the displayed data cleaner formatting\n",
    "\n",
    "\n",
    "* Display a preview of the summary data frame\n",
    "\n"
   ]
  },
  {
   "cell_type": "code",
   "execution_count": 25,
   "metadata": {},
   "outputs": [
    {
     "data": {
      "text/html": [
       "<style  type=\"text/css\" >\n",
       "</style><table id=\"T_d344e_\" ><thead>    <tr>        <th class=\"blank level0\" ></th>        <th class=\"col_heading level0 col0\" >Purchase Count</th>        <th class=\"col_heading level0 col1\" >Average Purchase Price</th>        <th class=\"col_heading level0 col2\" >Total Purchase Value</th>    </tr>    <tr>        <th class=\"index_name level0\" >SN</th>        <th class=\"blank\" ></th>        <th class=\"blank\" ></th>        <th class=\"blank\" ></th>    </tr></thead><tbody>\n",
       "                <tr>\n",
       "                        <th id=\"T_d344e_level0_row0\" class=\"row_heading level0 row0\" >Lisosia93</th>\n",
       "                        <td id=\"T_d344e_row0_col0\" class=\"data row0 col0\" >5</td>\n",
       "                        <td id=\"T_d344e_row0_col1\" class=\"data row0 col1\" >$3.79</td>\n",
       "                        <td id=\"T_d344e_row0_col2\" class=\"data row0 col2\" >$18.96</td>\n",
       "            </tr>\n",
       "            <tr>\n",
       "                        <th id=\"T_d344e_level0_row1\" class=\"row_heading level0 row1\" >Idastidru52</th>\n",
       "                        <td id=\"T_d344e_row1_col0\" class=\"data row1 col0\" >4</td>\n",
       "                        <td id=\"T_d344e_row1_col1\" class=\"data row1 col1\" >$3.86</td>\n",
       "                        <td id=\"T_d344e_row1_col2\" class=\"data row1 col2\" >$15.45</td>\n",
       "            </tr>\n",
       "            <tr>\n",
       "                        <th id=\"T_d344e_level0_row2\" class=\"row_heading level0 row2\" >Chamjask73</th>\n",
       "                        <td id=\"T_d344e_row2_col0\" class=\"data row2 col0\" >3</td>\n",
       "                        <td id=\"T_d344e_row2_col1\" class=\"data row2 col1\" >$4.61</td>\n",
       "                        <td id=\"T_d344e_row2_col2\" class=\"data row2 col2\" >$13.83</td>\n",
       "            </tr>\n",
       "            <tr>\n",
       "                        <th id=\"T_d344e_level0_row3\" class=\"row_heading level0 row3\" >Iral74</th>\n",
       "                        <td id=\"T_d344e_row3_col0\" class=\"data row3 col0\" >4</td>\n",
       "                        <td id=\"T_d344e_row3_col1\" class=\"data row3 col1\" >$3.40</td>\n",
       "                        <td id=\"T_d344e_row3_col2\" class=\"data row3 col2\" >$13.62</td>\n",
       "            </tr>\n",
       "            <tr>\n",
       "                        <th id=\"T_d344e_level0_row4\" class=\"row_heading level0 row4\" >Iskadarya95</th>\n",
       "                        <td id=\"T_d344e_row4_col0\" class=\"data row4 col0\" >3</td>\n",
       "                        <td id=\"T_d344e_row4_col1\" class=\"data row4 col1\" >$4.37</td>\n",
       "                        <td id=\"T_d344e_row4_col2\" class=\"data row4 col2\" >$13.10</td>\n",
       "            </tr>\n",
       "    </tbody></table>"
      ],
      "text/plain": [
       "<pandas.io.formats.style.Styler at 0x209b84eb340>"
      ]
     },
     "execution_count": 25,
     "metadata": {},
     "output_type": "execute_result"
    }
   ],
   "source": [
    "By_Player = purchase_data.groupby(\"SN\")\n",
    "Purchase_count_By_Player=By_Player[\"Purchase ID\"].count()\n",
    "\n",
    "Avg_Purchase_Price_By_Player= By_Player[\"Price\"].mean()\n",
    "\n",
    "Total_Purchase_By_Player=By_Player[\"Price\"].sum()\n",
    "Output_Spender_Analysis_df = pd.DataFrame({\"Purchase Count\": Purchase_count_By_Player, \n",
    "                                    \"Average Purchase Price\": Avg_Purchase_Price_By_Player,\n",
    "                                    \"Total Purchase Value\":Total_Purchase_By_Player})\n",
    "Output_Spender_Analysis_df.index.name =\"SN\"\n",
    "Final_Summary_Output_Player=Output_Spender_Analysis_df.sort_values([\"Total Purchase Value\"],ascending=False).head()\n",
    "Final_Summary_Output_Player.style.format({\"Average Purchase Price\":\"${:,.2f}\",\n",
    "                                  \"Total Purchase Value\":\"${:,.2f}\"})"
   ]
  },
  {
   "cell_type": "markdown",
   "metadata": {},
   "source": [
    "## Most Popular Items"
   ]
  },
  {
   "cell_type": "markdown",
   "metadata": {},
   "source": [
    "* Retrieve the Item ID, Item Name, and Item Price columns\n",
    "\n",
    "\n",
    "* Group by Item ID and Item Name. Perform calculations to obtain purchase count, average item price, and total purchase value\n",
    "\n",
    "\n",
    "* Create a summary data frame to hold the results\n",
    "\n",
    "\n",
    "* Sort the purchase count column in descending order\n",
    "\n",
    "\n",
    "* Optional: give the displayed data cleaner formatting\n",
    "\n",
    "\n",
    "* Display a preview of the summary data frame\n",
    "\n"
   ]
  },
  {
   "cell_type": "code",
   "execution_count": 26,
   "metadata": {},
   "outputs": [
    {
     "data": {
      "text/html": [
       "<style  type=\"text/css\" >\n",
       "</style><table id=\"T_0dc16_\" ><thead>    <tr>        <th class=\"blank\" ></th>        <th class=\"blank level0\" ></th>        <th class=\"col_heading level0 col0\" >Purchase Count</th>        <th class=\"col_heading level0 col1\" >Average Purchase Price</th>        <th class=\"col_heading level0 col2\" >Total Purchase Value</th>    </tr>    <tr>        <th class=\"index_name level0\" >Item ID</th>        <th class=\"index_name level1\" >Item Name</th>        <th class=\"blank\" ></th>        <th class=\"blank\" ></th>        <th class=\"blank\" ></th>    </tr></thead><tbody>\n",
       "                <tr>\n",
       "                        <th id=\"T_0dc16_level0_row0\" class=\"row_heading level0 row0\" >92</th>\n",
       "                        <th id=\"T_0dc16_level1_row0\" class=\"row_heading level1 row0\" >Final Critic</th>\n",
       "                        <td id=\"T_0dc16_row0_col0\" class=\"data row0 col0\" >13</td>\n",
       "                        <td id=\"T_0dc16_row0_col1\" class=\"data row0 col1\" >$4.61</td>\n",
       "                        <td id=\"T_0dc16_row0_col2\" class=\"data row0 col2\" >$59.99</td>\n",
       "            </tr>\n",
       "            <tr>\n",
       "                        <th id=\"T_0dc16_level0_row1\" class=\"row_heading level0 row1\" >178</th>\n",
       "                        <th id=\"T_0dc16_level1_row1\" class=\"row_heading level1 row1\" >Oathbreaker, Last Hope of the Breaking Storm</th>\n",
       "                        <td id=\"T_0dc16_row1_col0\" class=\"data row1 col0\" >12</td>\n",
       "                        <td id=\"T_0dc16_row1_col1\" class=\"data row1 col1\" >$4.23</td>\n",
       "                        <td id=\"T_0dc16_row1_col2\" class=\"data row1 col2\" >$50.76</td>\n",
       "            </tr>\n",
       "            <tr>\n",
       "                        <th id=\"T_0dc16_level0_row2\" class=\"row_heading level0 row2\" >145</th>\n",
       "                        <th id=\"T_0dc16_level1_row2\" class=\"row_heading level1 row2\" >Fiery Glass Crusader</th>\n",
       "                        <td id=\"T_0dc16_row2_col0\" class=\"data row2 col0\" >9</td>\n",
       "                        <td id=\"T_0dc16_row2_col1\" class=\"data row2 col1\" >$4.58</td>\n",
       "                        <td id=\"T_0dc16_row2_col2\" class=\"data row2 col2\" >$41.22</td>\n",
       "            </tr>\n",
       "            <tr>\n",
       "                        <th id=\"T_0dc16_level0_row3\" class=\"row_heading level0 row3\" >132</th>\n",
       "                        <th id=\"T_0dc16_level1_row3\" class=\"row_heading level1 row3\" >Persuasion</th>\n",
       "                        <td id=\"T_0dc16_row3_col0\" class=\"data row3 col0\" >9</td>\n",
       "                        <td id=\"T_0dc16_row3_col1\" class=\"data row3 col1\" >$3.22</td>\n",
       "                        <td id=\"T_0dc16_row3_col2\" class=\"data row3 col2\" >$28.99</td>\n",
       "            </tr>\n",
       "            <tr>\n",
       "                        <th id=\"T_0dc16_level0_row4\" class=\"row_heading level0 row4\" >108</th>\n",
       "                        <th id=\"T_0dc16_level1_row4\" class=\"row_heading level1 row4\" >Extraction, Quickblade Of Trembling Hands</th>\n",
       "                        <td id=\"T_0dc16_row4_col0\" class=\"data row4 col0\" >9</td>\n",
       "                        <td id=\"T_0dc16_row4_col1\" class=\"data row4 col1\" >$3.53</td>\n",
       "                        <td id=\"T_0dc16_row4_col2\" class=\"data row4 col2\" >$31.77</td>\n",
       "            </tr>\n",
       "    </tbody></table>"
      ],
      "text/plain": [
       "<pandas.io.formats.style.Styler at 0x209b82b5370>"
      ]
     },
     "execution_count": 26,
     "metadata": {},
     "output_type": "execute_result"
    }
   ],
   "source": [
    "MPI=purchase_data[[\"Item ID\",\"Item Name\",\"Price\"]]\n",
    "By_Item=purchase_data.groupby([\"Item ID\", \"Item Name\"])\n",
    "Purchase_count_By_Item=By_Item[\"Price\"].count()\n",
    "\n",
    "Total_Purchase_By_Item=By_Item[\"Price\"].sum()\n",
    "\n",
    "\n",
    "Avg_Purchase_Price_By_Item= Total_Purchase_By_Item/Purchase_count_By_Item\n",
    "\n",
    "\n",
    "Total_Purchase_By_Item=By_Item[\"Price\"].sum()\n",
    "\n",
    "Output_Item_Analysis_df = pd.DataFrame({\"Purchase Count\": Purchase_count_By_Item, \n",
    "                                    \"Average Purchase Price\": Avg_Purchase_Price_By_Item,\n",
    "                                    \"Total Purchase Value\":Total_Purchase_By_Item})\n",
    "\n",
    "Final_Summary_Output_Item=Output_Item_Analysis_df.sort_values([\"Purchase Count\"],ascending=False).head()\n",
    "\n",
    "Final_Summary_Output_Item.style.format({\"Average Purchase Price\":\"${:,.2f}\",\n",
    "                                  \"Total Purchase Value\":\"${:,.2f}\"})"
   ]
  },
  {
   "cell_type": "markdown",
   "metadata": {},
   "source": [
    "## Most Profitable Items"
   ]
  },
  {
   "cell_type": "markdown",
   "metadata": {},
   "source": [
    "* Sort the above table by total purchase value in descending order\n",
    "\n",
    "\n",
    "* Optional: give the displayed data cleaner formatting\n",
    "\n",
    "\n",
    "* Display a preview of the data frame\n",
    "\n"
   ]
  },
  {
   "cell_type": "code",
   "execution_count": 27,
   "metadata": {
    "scrolled": true
   },
   "outputs": [
    {
     "data": {
      "text/html": [
       "<style  type=\"text/css\" >\n",
       "</style><table id=\"T_850df_\" ><thead>    <tr>        <th class=\"blank\" ></th>        <th class=\"blank level0\" ></th>        <th class=\"col_heading level0 col0\" >Purchase Count</th>        <th class=\"col_heading level0 col1\" >Average Purchase Price</th>        <th class=\"col_heading level0 col2\" >Total Purchase Value</th>    </tr>    <tr>        <th class=\"index_name level0\" >Item ID</th>        <th class=\"index_name level1\" >Item Name</th>        <th class=\"blank\" ></th>        <th class=\"blank\" ></th>        <th class=\"blank\" ></th>    </tr></thead><tbody>\n",
       "                <tr>\n",
       "                        <th id=\"T_850df_level0_row0\" class=\"row_heading level0 row0\" >92</th>\n",
       "                        <th id=\"T_850df_level1_row0\" class=\"row_heading level1 row0\" >Final Critic</th>\n",
       "                        <td id=\"T_850df_row0_col0\" class=\"data row0 col0\" >13</td>\n",
       "                        <td id=\"T_850df_row0_col1\" class=\"data row0 col1\" >$4.61</td>\n",
       "                        <td id=\"T_850df_row0_col2\" class=\"data row0 col2\" >$59.99</td>\n",
       "            </tr>\n",
       "            <tr>\n",
       "                        <th id=\"T_850df_level0_row1\" class=\"row_heading level0 row1\" >178</th>\n",
       "                        <th id=\"T_850df_level1_row1\" class=\"row_heading level1 row1\" >Oathbreaker, Last Hope of the Breaking Storm</th>\n",
       "                        <td id=\"T_850df_row1_col0\" class=\"data row1 col0\" >12</td>\n",
       "                        <td id=\"T_850df_row1_col1\" class=\"data row1 col1\" >$4.23</td>\n",
       "                        <td id=\"T_850df_row1_col2\" class=\"data row1 col2\" >$50.76</td>\n",
       "            </tr>\n",
       "            <tr>\n",
       "                        <th id=\"T_850df_level0_row2\" class=\"row_heading level0 row2\" >82</th>\n",
       "                        <th id=\"T_850df_level1_row2\" class=\"row_heading level1 row2\" >Nirvana</th>\n",
       "                        <td id=\"T_850df_row2_col0\" class=\"data row2 col0\" >9</td>\n",
       "                        <td id=\"T_850df_row2_col1\" class=\"data row2 col1\" >$4.90</td>\n",
       "                        <td id=\"T_850df_row2_col2\" class=\"data row2 col2\" >$44.10</td>\n",
       "            </tr>\n",
       "            <tr>\n",
       "                        <th id=\"T_850df_level0_row3\" class=\"row_heading level0 row3\" >145</th>\n",
       "                        <th id=\"T_850df_level1_row3\" class=\"row_heading level1 row3\" >Fiery Glass Crusader</th>\n",
       "                        <td id=\"T_850df_row3_col0\" class=\"data row3 col0\" >9</td>\n",
       "                        <td id=\"T_850df_row3_col1\" class=\"data row3 col1\" >$4.58</td>\n",
       "                        <td id=\"T_850df_row3_col2\" class=\"data row3 col2\" >$41.22</td>\n",
       "            </tr>\n",
       "            <tr>\n",
       "                        <th id=\"T_850df_level0_row4\" class=\"row_heading level0 row4\" >103</th>\n",
       "                        <th id=\"T_850df_level1_row4\" class=\"row_heading level1 row4\" >Singed Scalpel</th>\n",
       "                        <td id=\"T_850df_row4_col0\" class=\"data row4 col0\" >8</td>\n",
       "                        <td id=\"T_850df_row4_col1\" class=\"data row4 col1\" >$4.35</td>\n",
       "                        <td id=\"T_850df_row4_col2\" class=\"data row4 col2\" >$34.80</td>\n",
       "            </tr>\n",
       "    </tbody></table>"
      ],
      "text/plain": [
       "<pandas.io.formats.style.Styler at 0x209b83c0610>"
      ]
     },
     "execution_count": 27,
     "metadata": {},
     "output_type": "execute_result"
    }
   ],
   "source": [
    "Final_Summary_Output_Item=Output_Item_Analysis_df.sort_values([\"Total Purchase Value\"],ascending=False).head()\n",
    "Final_Summary_Output_Item.style.format({\"Average Purchase Price\":\"${:,.2f}\",\n",
    "                                  \"Total Purchase Value\":\"${:,.2f}\"})"
   ]
  },
  {
   "cell_type": "code",
   "execution_count": null,
   "metadata": {},
   "outputs": [],
   "source": []
  }
 ],
 "metadata": {
  "anaconda-cloud": {},
  "kernel_info": {
   "name": "python3"
  },
  "kernelspec": {
   "display_name": "Python 3",
   "language": "python",
   "name": "python3"
  },
  "language_info": {
   "codemirror_mode": {
    "name": "ipython",
    "version": 3
   },
   "file_extension": ".py",
   "mimetype": "text/x-python",
   "name": "python",
   "nbconvert_exporter": "python",
   "pygments_lexer": "ipython3",
   "version": "3.8.8"
  },
  "latex_envs": {
   "LaTeX_envs_menu_present": true,
   "autoclose": false,
   "autocomplete": true,
   "bibliofile": "biblio.bib",
   "cite_by": "apalike",
   "current_citInitial": 1,
   "eqLabelWithNumbers": true,
   "eqNumInitial": 1,
   "hotkeys": {
    "equation": "Ctrl-E",
    "itemize": "Ctrl-I"
   },
   "labels_anchors": false,
   "latex_user_defs": false,
   "report_style_numbering": false,
   "user_envs_cfg": false
  },
  "nteract": {
   "version": "0.2.0"
  }
 },
 "nbformat": 4,
 "nbformat_minor": 4
}
